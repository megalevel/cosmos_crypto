{
  "nbformat": 4,
  "nbformat_minor": 0,
  "metadata": {
    "colab": {
      "provenance": []
    },
    "kernelspec": {
      "name": "python3",
      "display_name": "Python 3"
    },
    "language_info": {
      "name": "python"
    }
  },
  "cells": [
    {
      "cell_type": "code",
      "source": [
        "# Installing CosmPy\n",
        "\n",
        "!pip3 install cosmpy\n",
        "from cosmpy.aerial.client import LedgerClient, NetworkConfig\n",
        "from cosmpy.aerial.wallet import LocalWallet\n",
        "from cosmpy.crypto.keypairs import PrivateKey\n",
        "from bip_utils import Bip39SeedGenerator, Bip44, Bip44Coins"
      ],
      "metadata": {
        "id": "d10NNyIrwWC1"
      },
      "execution_count": null,
      "outputs": []
    },
    {
      "cell_type": "code",
      "source": [
        "# Initiating the connection\n",
        "ledger_client = LedgerClient(NetworkConfig.fetch_mainnet())\n",
        "\n",
        "cfg = NetworkConfig(\n",
        "    chain_id=\"cosmoshub-4\",\n",
        "    url=\"grpc+https://grpc-cosmoshub-ia.cosmosia.notional.ventures:443\",\n",
        "    fee_minimum_gas_price=1,\n",
        "    fee_denomination=\"uatom\",\n",
        "    staking_denomination=\"uatom\",\n",
        ")\n",
        "\n",
        "ledger_client = LedgerClient(cfg)\n",
        "\n",
        "# Receiving and printing the balance\n",
        "address = ''    # sample: cosmos1ya99j3ffkyvwz3vs3tgh9ebtw7krz6n63nh9tx\n",
        "balances = ledger_client.query_bank_all_balances(address)\n",
        "\n",
        "print('Our wallet balance:',balances)"
      ],
      "metadata": {
        "id": "d7SvabhHxFds",
        "colab": {
          "base_uri": "https://localhost:8080/"
        },
        "outputId": "de84f02a-cc76-4b5d-e5eb-89b214e0fab4"
      },
      "execution_count": 2,
      "outputs": [
        {
          "output_type": "stream",
          "name": "stdout",
          "text": [
            "Our wallet balance: [Coin(amount='1268237', denom='uatom')]\n"
          ]
        }
      ]
    },
    {
      "cell_type": "code",
      "source": [
        "# Initiating our wallet (already existing)\n",
        "mnemonic = '' # sample: 'beast table wall strike desk sugar face tiger road pencil show star'\n",
        "seed_bytes = Bip39SeedGenerator(mnemonic).Generate()\n",
        "bip44_def_ctx = Bip44.FromSeed(seed_bytes, Bip44Coins.COSMOS).DeriveDefaultPath()\n",
        "wallet = LocalWallet(PrivateKey(bip44_def_ctx.PrivateKey().Raw().ToBytes()), 'cosmos')"
      ],
      "metadata": {
        "id": "uEjk8N2kQhNe"
      },
      "execution_count": 3,
      "outputs": []
    },
    {
      "cell_type": "code",
      "source": [
        "# Specify the recipient's address\n",
        "destination_address = ''    # sample: cosmos1nw99j3ffkyvwz3vc3tgh9ebni7krz6n63nh6nw\n",
        "\n",
        "# Specify the amount of funds we want to send\n",
        "summ = 1\n",
        "\n",
        "# Making transaction\n",
        "tx = ledger_client.send_tokens(destination_address, summ, \"uatom\", wallet)\n",
        "\n",
        "# Waiting for the transaction to be completed\n",
        "tx.wait_to_complete()\n",
        "\n",
        "# Printing the hash of the transaction\n",
        "print(tx.tx_hash)"
      ],
      "metadata": {
        "id": "Y8kkV5CL1oDV"
      },
      "execution_count": null,
      "outputs": []
    }
  ]
}